{
 "metadata": {
  "language_info": {
   "codemirror_mode": {
    "name": "ipython",
    "version": 3
   },
   "file_extension": ".py",
   "mimetype": "text/x-python",
   "name": "python",
   "nbconvert_exporter": "python",
   "pygments_lexer": "ipython3",
   "version": "3.8.8-final"
  },
  "orig_nbformat": 2,
  "kernelspec": {
   "name": "python3",
   "display_name": "Python 3.8.8 64-bit ('ML_game': conda)",
   "metadata": {
    "interpreter": {
     "hash": "c7ca880ceec708f4f4f1eea440b265e13e9af10eafbdcfb244764c0d3817e8d5"
    }
   }
  }
 },
 "nbformat": 4,
 "nbformat_minor": 2,
 "cells": [
  {
   "cell_type": "code",
   "execution_count": 31,
   "metadata": {},
   "outputs": [],
   "source": [
    "import pickle\n",
    "import numpy as np\n",
    "from sklearn.neighbors import KNeighborsClassifier\n",
    "from sklearn.model_selection import train_test_split, cross_val_score\n",
    "from sklearn.metrics import  classification_report, confusion_matrix\n",
    "from sklearn.model_selection import GridSearchCV\n",
    "from sklearn.model_selection import StratifiedShuffleSplit\n",
    "\n",
    "import pandas as pd\n",
    "import glob"
   ]
  },
  {
   "cell_type": "code",
   "execution_count": 32,
   "metadata": {},
   "outputs": [],
   "source": [
    "path = \"arkanoid/log\"\n",
    "filenames = glob.glob(path + \"/*.pickle\")\n",
    "table = pd.DataFrame()\n",
    "for filename in filenames:\n",
    "    data = pd.read_pickle(filename)\n",
    "    df = pd.DataFrame(data[\"ml\"]['scene_info'],  data[\"ml\"]['command'])\n",
    "    df.rename(columns={'index': 'command'}, inplace=True)\n",
    "    df.drop(df.tail(1).index,inplace=True)\n",
    "    table = table.append(df)"
   ]
  },
  {
   "cell_type": "code",
   "execution_count": 33,
   "metadata": {},
   "outputs": [],
   "source": [
    "# table.loc[table['command'] == \"NONE\", 'command'] = 0\n",
    "# table.loc[table['command'] == \"MOVE_LEFT\", 'command'] = 1\n",
    "# table.loc[table['command'] == \"MOVE_RIGHT\", 'command'] = 2\n",
    "# table.loc[table['command'] == \"SERVE_TO_LEFT\", 'command'] = 0\n",
    "# table.loc[table['command'] == \"SERVE_TO_RIGHT\", 'command'] = 0\n",
    "# table.command.fillna(0, inplace = True)"
   ]
  },
  {
   "cell_type": "code",
   "execution_count": 34,
   "metadata": {},
   "outputs": [
    {
     "output_type": "execute_result",
     "data": {
      "text/plain": [
       "               frame      status       ball   platform  \\\n",
       "SERVE_TO_LEFT      0  GAME_ALIVE  (93, 395)  (75, 400)   \n",
       "NONE               2  GAME_ALIVE  (86, 388)  (75, 400)   \n",
       "NONE               3  GAME_ALIVE  (79, 381)  (75, 400)   \n",
       "NONE               4  GAME_ALIVE  (72, 374)  (75, 400)   \n",
       "NONE               5  GAME_ALIVE  (65, 367)  (75, 400)   \n",
       "...              ...         ...        ...        ...   \n",
       "NONE            1827  GAME_ALIVE   (90, 42)   (0, 400)   \n",
       "NONE            1828  GAME_ALIVE   (83, 49)   (0, 400)   \n",
       "NONE            1829  GAME_ALIVE   (76, 56)   (0, 400)   \n",
       "NONE            1830  GAME_ALIVE   (69, 63)   (0, 400)   \n",
       "NONE            1831  GAME_ALIVE   (62, 70)   (0, 400)   \n",
       "\n",
       "                                                          bricks  \\\n",
       "SERVE_TO_LEFT  [(50, 60), (75, 60), (100, 60), (125, 60), (60...   \n",
       "NONE           [(50, 60), (75, 60), (100, 60), (125, 60), (60...   \n",
       "NONE           [(50, 60), (75, 60), (100, 60), (125, 60), (60...   \n",
       "NONE           [(50, 60), (75, 60), (100, 60), (125, 60), (60...   \n",
       "NONE           [(50, 60), (75, 60), (100, 60), (125, 60), (60...   \n",
       "...                                                          ...   \n",
       "NONE                                                  [(35, 70)]   \n",
       "NONE                                                  [(35, 70)]   \n",
       "NONE                                                  [(35, 70)]   \n",
       "NONE                                                  [(35, 70)]   \n",
       "NONE                                                  [(35, 70)]   \n",
       "\n",
       "                                                     hard_bricks  \n",
       "SERVE_TO_LEFT  [(35, 50), (60, 50), (85, 50), (110, 50), (135...  \n",
       "NONE           [(35, 50), (60, 50), (85, 50), (110, 50), (135...  \n",
       "NONE           [(35, 50), (60, 50), (85, 50), (110, 50), (135...  \n",
       "NONE           [(35, 50), (60, 50), (85, 50), (110, 50), (135...  \n",
       "NONE           [(35, 50), (60, 50), (85, 50), (110, 50), (135...  \n",
       "...                                                          ...  \n",
       "NONE                                                          []  \n",
       "NONE                                                          []  \n",
       "NONE                                                          []  \n",
       "NONE                                                          []  \n",
       "NONE                                                          []  \n",
       "\n",
       "[51141 rows x 6 columns]"
      ],
      "text/html": "<div>\n<style scoped>\n    .dataframe tbody tr th:only-of-type {\n        vertical-align: middle;\n    }\n\n    .dataframe tbody tr th {\n        vertical-align: top;\n    }\n\n    .dataframe thead th {\n        text-align: right;\n    }\n</style>\n<table border=\"1\" class=\"dataframe\">\n  <thead>\n    <tr style=\"text-align: right;\">\n      <th></th>\n      <th>frame</th>\n      <th>status</th>\n      <th>ball</th>\n      <th>platform</th>\n      <th>bricks</th>\n      <th>hard_bricks</th>\n    </tr>\n  </thead>\n  <tbody>\n    <tr>\n      <th>SERVE_TO_LEFT</th>\n      <td>0</td>\n      <td>GAME_ALIVE</td>\n      <td>(93, 395)</td>\n      <td>(75, 400)</td>\n      <td>[(50, 60), (75, 60), (100, 60), (125, 60), (60...</td>\n      <td>[(35, 50), (60, 50), (85, 50), (110, 50), (135...</td>\n    </tr>\n    <tr>\n      <th>NONE</th>\n      <td>2</td>\n      <td>GAME_ALIVE</td>\n      <td>(86, 388)</td>\n      <td>(75, 400)</td>\n      <td>[(50, 60), (75, 60), (100, 60), (125, 60), (60...</td>\n      <td>[(35, 50), (60, 50), (85, 50), (110, 50), (135...</td>\n    </tr>\n    <tr>\n      <th>NONE</th>\n      <td>3</td>\n      <td>GAME_ALIVE</td>\n      <td>(79, 381)</td>\n      <td>(75, 400)</td>\n      <td>[(50, 60), (75, 60), (100, 60), (125, 60), (60...</td>\n      <td>[(35, 50), (60, 50), (85, 50), (110, 50), (135...</td>\n    </tr>\n    <tr>\n      <th>NONE</th>\n      <td>4</td>\n      <td>GAME_ALIVE</td>\n      <td>(72, 374)</td>\n      <td>(75, 400)</td>\n      <td>[(50, 60), (75, 60), (100, 60), (125, 60), (60...</td>\n      <td>[(35, 50), (60, 50), (85, 50), (110, 50), (135...</td>\n    </tr>\n    <tr>\n      <th>NONE</th>\n      <td>5</td>\n      <td>GAME_ALIVE</td>\n      <td>(65, 367)</td>\n      <td>(75, 400)</td>\n      <td>[(50, 60), (75, 60), (100, 60), (125, 60), (60...</td>\n      <td>[(35, 50), (60, 50), (85, 50), (110, 50), (135...</td>\n    </tr>\n    <tr>\n      <th>...</th>\n      <td>...</td>\n      <td>...</td>\n      <td>...</td>\n      <td>...</td>\n      <td>...</td>\n      <td>...</td>\n    </tr>\n    <tr>\n      <th>NONE</th>\n      <td>1827</td>\n      <td>GAME_ALIVE</td>\n      <td>(90, 42)</td>\n      <td>(0, 400)</td>\n      <td>[(35, 70)]</td>\n      <td>[]</td>\n    </tr>\n    <tr>\n      <th>NONE</th>\n      <td>1828</td>\n      <td>GAME_ALIVE</td>\n      <td>(83, 49)</td>\n      <td>(0, 400)</td>\n      <td>[(35, 70)]</td>\n      <td>[]</td>\n    </tr>\n    <tr>\n      <th>NONE</th>\n      <td>1829</td>\n      <td>GAME_ALIVE</td>\n      <td>(76, 56)</td>\n      <td>(0, 400)</td>\n      <td>[(35, 70)]</td>\n      <td>[]</td>\n    </tr>\n    <tr>\n      <th>NONE</th>\n      <td>1830</td>\n      <td>GAME_ALIVE</td>\n      <td>(69, 63)</td>\n      <td>(0, 400)</td>\n      <td>[(35, 70)]</td>\n      <td>[]</td>\n    </tr>\n    <tr>\n      <th>NONE</th>\n      <td>1831</td>\n      <td>GAME_ALIVE</td>\n      <td>(62, 70)</td>\n      <td>(0, 400)</td>\n      <td>[(35, 70)]</td>\n      <td>[]</td>\n    </tr>\n  </tbody>\n</table>\n<p>51141 rows × 6 columns</p>\n</div>"
     },
     "metadata": {},
     "execution_count": 34
    }
   ],
   "source": [
    "table"
   ]
  },
  {
   "cell_type": "code",
   "execution_count": 35,
   "metadata": {},
   "outputs": [],
   "source": [
    "table['ball_x'] = table['ball'].str[0]\n",
    "table['ball_y'] = table['ball'].str[1]\n",
    "table['platform_left'] = table['platform'].str[0]\n",
    "table['platform_right']  = table['platform_left'] + 40"
   ]
  },
  {
   "cell_type": "code",
   "execution_count": 36,
   "metadata": {},
   "outputs": [],
   "source": [
    "#table['from_right_wall'] = 195 - table['ball_x']\n",
    "#table['from_bottom'] = 400 - table['ball_y']"
   ]
  },
  {
   "cell_type": "code",
   "execution_count": 37,
   "metadata": {},
   "outputs": [],
   "source": [
    "temp_list = table['ball_x'].tolist()\n",
    "temp_list.pop()\n",
    "temp_list.insert(0,93)\n",
    "table['ball_x_last1'] = temp_list\n",
    "temp_list.pop()\n",
    "temp_list.insert(0,93)\n",
    "table['ball_x_last2'] = temp_list\n",
    "temp_list.pop()\n",
    "temp_list.insert(0,93)\n",
    "table['ball_x_last3'] = temp_list\n",
    "\n",
    "temp_list = table['ball_y'].tolist()\n",
    "temp_list.pop()\n",
    "temp_list.insert(0,395)\n",
    "table['ball_y_last1'] = temp_list\n",
    "temp_list.pop()\n",
    "temp_list.insert(0,395)\n",
    "table['ball_y_last2'] = temp_list\n",
    "temp_list.pop()\n",
    "temp_list.insert(0,395)\n",
    "table['ball_y_last3'] = temp_list"
   ]
  },
  {
   "cell_type": "code",
   "execution_count": 38,
   "metadata": {},
   "outputs": [],
   "source": [
    "table['ball_vector_x'] = table['ball_x'] - table['ball_x_last1']\n",
    "table['ball_vector_y'] = table['ball_y'] - table['ball_y_last1']\n"
   ]
  },
  {
   "cell_type": "code",
   "execution_count": 39,
   "metadata": {},
   "outputs": [],
   "source": [
    "#table['left_diff'] = table['ball_x'] - table['platform_left']\n",
    "#table['right_diff'] = table['ball_x'] - table['platform_right']"
   ]
  },
  {
   "cell_type": "code",
   "execution_count": 40,
   "metadata": {},
   "outputs": [],
   "source": [
    "#del table['frame']\n",
    "del table['bricks']\n",
    "del table['hard_bricks']\n",
    "del table['ball']\n",
    "del table['platform']\n",
    "#del table['platform_left']\n",
    "#del table['platform_right']\n",
    "\n",
    "# del table['ball_x_last1']\n",
    "# del table['ball_y_last1']\n",
    "del table['ball_x_last2']\n",
    "del table['ball_x_last3']\n",
    "del table['ball_y_last2']\n",
    "del table['ball_y_last3']\n",
    "# del table['frame']\n",
    "del table['status']"
   ]
  },
  {
   "cell_type": "code",
   "execution_count": 41,
   "metadata": {},
   "outputs": [
    {
     "output_type": "stream",
     "name": "stdout",
     "text": [
      "Fitting 2 folds for each of 6 candidates, totalling 12 fits\n",
      "[CV 1/2; 1/6] START n_neighbors=1...............................................\n",
      "[CV 1/2; 1/6] END .............................n_neighbors=1; total time=   0.3s\n",
      "[CV 2/2; 1/6] START n_neighbors=1...............................................\n",
      "[CV 2/2; 1/6] END .............................n_neighbors=1; total time=   0.3s\n",
      "[CV 1/2; 2/6] START n_neighbors=3...............................................\n",
      "[CV 1/2; 2/6] END .............................n_neighbors=3; total time=   0.3s\n",
      "[CV 2/2; 2/6] START n_neighbors=3...............................................\n",
      "[CV 2/2; 2/6] END .............................n_neighbors=3; total time=   0.3s\n",
      "[CV 1/2; 3/6] START n_neighbors=5...............................................\n",
      "[CV 1/2; 3/6] END .............................n_neighbors=5; total time=   0.3s\n",
      "[CV 2/2; 3/6] START n_neighbors=5...............................................\n",
      "[CV 2/2; 3/6] END .............................n_neighbors=5; total time=   0.3s\n",
      "[CV 1/2; 4/6] START n_neighbors=7...............................................\n",
      "[CV 1/2; 4/6] END .............................n_neighbors=7; total time=   0.3s\n",
      "[CV 2/2; 4/6] START n_neighbors=7...............................................\n",
      "[CV 2/2; 4/6] END .............................n_neighbors=7; total time=   0.3s\n",
      "[CV 1/2; 5/6] START n_neighbors=9...............................................\n",
      "[CV 1/2; 5/6] END .............................n_neighbors=9; total time=   0.4s\n",
      "[CV 2/2; 5/6] START n_neighbors=9...............................................\n",
      "[CV 2/2; 5/6] END .............................n_neighbors=9; total time=   0.3s\n",
      "[CV 1/2; 6/6] START n_neighbors=13..............................................\n",
      "[CV 1/2; 6/6] END ............................n_neighbors=13; total time=   0.4s\n",
      "[CV 2/2; 6/6] START n_neighbors=13..............................................\n",
      "[CV 2/2; 6/6] END ............................n_neighbors=13; total time=   0.4s\n"
     ]
    }
   ],
   "source": [
    "#資料劃分\n",
    "x_train, x_test, y_train, y_test = train_test_split(table.drop(columns='platform_left') , table['platform_left'], test_size=0.3, random_state=9)\n",
    "#參數區間\n",
    "param_grid = {'n_neighbors':[1, 3 ,5, 7, 9, 13]}\n",
    "#交叉驗證 \n",
    "cv = StratifiedShuffleSplit(n_splits=2, test_size=0.3, random_state=12)\n",
    "grid = GridSearchCV(KNeighborsClassifier(), param_grid, cv=cv, verbose=10)#, n_jobs=-1) #n_jobs為平行運算的數量\n",
    "grid.fit(x_train, y_train)\n",
    "grid_predictions = grid.predict(x_test)\n",
    "\n",
    "#儲存\n",
    "file = open('arkanoid/ml/arkanoid_n3_20210322_knn_model.pickle', 'wb')\n",
    "pickle.dump(grid, file)\n",
    "file.close()"
   ]
  },
  {
   "cell_type": "code",
   "execution_count": 42,
   "metadata": {},
   "outputs": [
    {
     "output_type": "stream",
     "name": "stdout",
     "text": [
      "{'n_neighbors': 1}\n[[ 672    5    0 ...    0    0    0]\n [   8  145    5 ...    0    0    0]\n [   0    0  167 ...    0    0    0]\n ...\n [   0    0    0 ...  426    5    2]\n [   0    0    0 ...    6  258   14]\n [   0    0    0 ...    0    4 1292]]\n              precision    recall  f1-score   support\n\n           0       0.99      0.99      0.99       677\n           5       0.97      0.92      0.94       158\n          10       0.87      0.77      0.82       217\n          15       0.83      0.88      0.85       250\n          20       0.83      0.87      0.85       214\n          25       0.92      0.83      0.87       413\n          30       0.86      0.97      0.91       392\n          35       0.90      0.93      0.92       286\n          40       0.89      0.79      0.83       159\n          45       0.97      0.98      0.97       582\n          50       0.91      0.95      0.93       476\n          55       0.97      0.94      0.95       884\n          60       0.94      0.97      0.95       470\n          65       0.92      0.93      0.93       621\n          70       0.97      0.96      0.96       924\n          75       0.94      0.94      0.94       493\n          80       0.97      0.98      0.98       895\n          85       0.93      0.94      0.94       250\n          90       0.93      0.92      0.93       509\n          95       0.90      0.88      0.89       478\n         100       0.89      0.92      0.91       495\n         105       0.86      0.85      0.85       390\n         110       0.92      0.92      0.92       535\n         115       0.90      0.95      0.92       147\n         120       0.93      0.83      0.88       176\n         125       0.93      0.97      0.95       321\n         130       0.98      0.96      0.97       552\n         135       0.97      0.97      0.97       437\n         140       0.99      0.99      0.99       654\n         145       0.98      0.97      0.98       280\n         150       0.97      0.98      0.98       434\n         155       0.97      0.93      0.95       278\n         160       0.99      1.00      0.99      1296\n\n    accuracy                           0.94     15343\n   macro avg       0.93      0.93      0.93     15343\nweighted avg       0.94      0.94      0.94     15343\n\n"
     ]
    }
   ],
   "source": [
    "#最佳參數\n",
    "print(grid.best_params_)\n",
    "#預測結果\n",
    "#print(grid_predictions)\n",
    "#混淆矩陣\n",
    "print(confusion_matrix(y_test, grid_predictions))\n",
    "#分類結果\n",
    "print(classification_report(y_test, grid_predictions))"
   ]
  },
  {
   "cell_type": "code",
   "execution_count": 43,
   "metadata": {},
   "outputs": [
    {
     "output_type": "execute_result",
     "data": {
      "text/plain": [
       "               frame  ball_x  ball_y  platform_right  ball_x_last1  \\\n",
       "SERVE_TO_LEFT      0      93     395             115            93   \n",
       "NONE               2      86     388             115            93   \n",
       "NONE               3      79     381             115            86   \n",
       "NONE               4      72     374             115            79   \n",
       "NONE               5      65     367             115            72   \n",
       "\n",
       "               ball_y_last1  ball_vector_x  ball_vector_y  \n",
       "SERVE_TO_LEFT           395              0              0  \n",
       "NONE                    395             -7             -7  \n",
       "NONE                    388             -7             -7  \n",
       "NONE                    381             -7             -7  \n",
       "NONE                    374             -7             -7  "
      ],
      "text/html": "<div>\n<style scoped>\n    .dataframe tbody tr th:only-of-type {\n        vertical-align: middle;\n    }\n\n    .dataframe tbody tr th {\n        vertical-align: top;\n    }\n\n    .dataframe thead th {\n        text-align: right;\n    }\n</style>\n<table border=\"1\" class=\"dataframe\">\n  <thead>\n    <tr style=\"text-align: right;\">\n      <th></th>\n      <th>frame</th>\n      <th>ball_x</th>\n      <th>ball_y</th>\n      <th>platform_right</th>\n      <th>ball_x_last1</th>\n      <th>ball_y_last1</th>\n      <th>ball_vector_x</th>\n      <th>ball_vector_y</th>\n    </tr>\n  </thead>\n  <tbody>\n    <tr>\n      <th>SERVE_TO_LEFT</th>\n      <td>0</td>\n      <td>93</td>\n      <td>395</td>\n      <td>115</td>\n      <td>93</td>\n      <td>395</td>\n      <td>0</td>\n      <td>0</td>\n    </tr>\n    <tr>\n      <th>NONE</th>\n      <td>2</td>\n      <td>86</td>\n      <td>388</td>\n      <td>115</td>\n      <td>93</td>\n      <td>395</td>\n      <td>-7</td>\n      <td>-7</td>\n    </tr>\n    <tr>\n      <th>NONE</th>\n      <td>3</td>\n      <td>79</td>\n      <td>381</td>\n      <td>115</td>\n      <td>86</td>\n      <td>388</td>\n      <td>-7</td>\n      <td>-7</td>\n    </tr>\n    <tr>\n      <th>NONE</th>\n      <td>4</td>\n      <td>72</td>\n      <td>374</td>\n      <td>115</td>\n      <td>79</td>\n      <td>381</td>\n      <td>-7</td>\n      <td>-7</td>\n    </tr>\n    <tr>\n      <th>NONE</th>\n      <td>5</td>\n      <td>65</td>\n      <td>367</td>\n      <td>115</td>\n      <td>72</td>\n      <td>374</td>\n      <td>-7</td>\n      <td>-7</td>\n    </tr>\n  </tbody>\n</table>\n</div>"
     },
     "metadata": {},
     "execution_count": 43
    }
   ],
   "source": [
    "table.drop(columns='platform_left').head()"
   ]
  },
  {
   "cell_type": "code",
   "execution_count": 44,
   "metadata": {},
   "outputs": [
    {
     "output_type": "execute_result",
     "data": {
      "text/plain": [
       "Index(['frame', 'ball_x', 'ball_y', 'platform_right', 'ball_x_last1',\n",
       "       'ball_y_last1', 'ball_vector_x', 'ball_vector_y'],\n",
       "      dtype='object')"
      ]
     },
     "metadata": {},
     "execution_count": 44
    }
   ],
   "source": [
    "table.drop(columns='platform_left').columns"
   ]
  },
  {
   "cell_type": "code",
   "execution_count": null,
   "metadata": {},
   "outputs": [],
   "source": []
  }
 ]
}